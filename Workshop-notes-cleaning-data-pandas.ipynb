{
 "cells": [
  {
   "cell_type": "markdown",
   "metadata": {},
   "source": [
    "Una vez que mi DF tiene como máximo 1 millón de rows, me conviene trabajar con Pandas DataFrames\n",
    " - Porque es parecido a R.\n",
    " - Correr funciones es más rápido que hacer una UDF (user defined function) en un Spark DataFrame"
   ]
  },
  {
   "cell_type": "markdown",
   "metadata": {},
   "source": [
    "### Levantar un csv como Pandas DataFrame"
   ]
  },
  {
   "cell_type": "code",
   "execution_count": null,
   "metadata": {
    "collapsed": true
   },
   "outputs": [],
   "source": [
    "import pandas as pd\n",
    "import numpy as np"
   ]
  },
  {
   "cell_type": "markdown",
   "metadata": {},
   "source": [
    "#### pandas.read_csv nos da muchas opciones: \n",
    " - sep:\",\" puedo decirle el separador\n",
    " - header='true' puedo decirle si mi tabla tiene header\n",
    " - parse_dates=['action_date'] puedo decirle que me pase a formato fecha los campos de fecha por nombre o posicion\n",
    " - names=['nuevo_nombre1', 'nuevo_nombre2' ... 'nuevo_nombreN']  puedo decirle ahi mismo los nuevos nombres de las columnas\n",
    " - dtype={'a': np.float64} puedo decir uno por uno el tipo de variable\n",
    " - mas opciones!"
   ]
  },
  {
   "cell_type": "code",
   "execution_count": null,
   "metadata": {
    "collapsed": true
   },
   "outputs": [],
   "source": [
    "PDF = pd.read_csv(\"PandasDF_sample.csv\", sep=',', header='infer')"
   ]
  },
  {
   "cell_type": "markdown",
   "metadata": {},
   "source": [
    "### Exploración de datos"
   ]
  },
  {
   "cell_type": "markdown",
   "metadata": {},
   "source": [
    "#### Pedir un head() y tail()"
   ]
  },
  {
   "cell_type": "code",
   "execution_count": null,
   "metadata": {
    "collapsed": true
   },
   "outputs": [],
   "source": [
    "PDF.head()"
   ]
  },
  {
   "cell_type": "code",
   "execution_count": null,
   "metadata": {
    "collapsed": true
   },
   "outputs": [],
   "source": [
    "PDF.tail()"
   ]
  },
  {
   "cell_type": "markdown",
   "metadata": {},
   "source": [
    "#### Ver solo las primeras N filas"
   ]
  },
  {
   "cell_type": "code",
   "execution_count": null,
   "metadata": {
    "collapsed": true
   },
   "outputs": [],
   "source": [
    "PDF.iloc[:3]"
   ]
  },
  {
   "cell_type": "code",
   "execution_count": null,
   "metadata": {
    "collapsed": true
   },
   "outputs": [],
   "source": [
    "# es lo mismo hacer\n",
    "PDF[:3]"
   ]
  },
  {
   "cell_type": "markdown",
   "metadata": {},
   "source": [
    "#### Preguntar los nombres de las columnas"
   ]
  },
  {
   "cell_type": "code",
   "execution_count": null,
   "metadata": {
    "collapsed": true
   },
   "outputs": [],
   "source": [
    "PDF.columns.values"
   ]
  },
  {
   "cell_type": "markdown",
   "metadata": {},
   "source": [
    "#### Pedir un summary de las variables numéricas"
   ]
  },
  {
   "cell_type": "code",
   "execution_count": null,
   "metadata": {
    "collapsed": true
   },
   "outputs": [],
   "source": [
    "# todas las variables numéricas\n",
    "PDF.describe()"
   ]
  },
  {
   "cell_type": "code",
   "execution_count": null,
   "metadata": {
    "collapsed": true
   },
   "outputs": [],
   "source": [
    "# summary de un subgrupo que cumple cierta condicion\n",
    "PDF[PDF['fl']==\"thanks\"].describe()"
   ]
  },
  {
   "cell_type": "code",
   "execution_count": null,
   "metadata": {
    "collapsed": true
   },
   "outputs": [],
   "source": [
    "# podemos pedir determinados percentiles para incluir en el describe\n",
    "PDF.describe(percentiles=[.02, .05, 0.95, 0.99])"
   ]
  },
  {
   "cell_type": "markdown",
   "metadata": {},
   "source": [
    "#### Table de un campo"
   ]
  },
  {
   "cell_type": "code",
   "execution_count": null,
   "metadata": {
    "collapsed": true
   },
   "outputs": [],
   "source": [
    "PDF['fl'].value_counts()"
   ]
  },
  {
   "cell_type": "markdown",
   "metadata": {},
   "source": [
    "#### Table de una combinación de campos"
   ]
  },
  {
   "cell_type": "code",
   "execution_count": null,
   "metadata": {
    "collapsed": true
   },
   "outputs": [],
   "source": [
    "PDF.groupby([\"traveler_type\", \"destination_type\"]).size().reset_index(name=\"Freq\")"
   ]
  },
  {
   "cell_type": "markdown",
   "metadata": {},
   "source": [
    "#### Operaciones con campos"
   ]
  },
  {
   "cell_type": "code",
   "execution_count": null,
   "metadata": {
    "collapsed": true
   },
   "outputs": [],
   "source": [
    "PDF['gb_night'] = PDF['pri'] / PDF['duration']"
   ]
  },
  {
   "cell_type": "markdown",
   "metadata": {},
   "source": [
    "#### Llenar missing values"
   ]
  },
  {
   "cell_type": "code",
   "execution_count": null,
   "metadata": {
    "collapsed": true
   },
   "outputs": [],
   "source": [
    "PDF['gb_night'] = PDF['gb_night'].fillna(0)"
   ]
  },
  {
   "cell_type": "markdown",
   "metadata": {},
   "source": [
    "#### Aplicar una función con apply\n",
    "- sobre un campo"
   ]
  },
  {
   "cell_type": "code",
   "execution_count": null,
   "metadata": {
    "collapsed": true
   },
   "outputs": [],
   "source": [
    "# Si comprador = True, poner 1, si no poner 0\n",
    "PDF['comprador'] = PDF['comprador'].apply(lambda x: 1 if (x == True) else 0)"
   ]
  },
  {
   "cell_type": "markdown",
   "metadata": {},
   "source": [
    "- sobre varios campos de un mismo row"
   ]
  },
  {
   "cell_type": "code",
   "execution_count": null,
   "metadata": {
    "collapsed": true
   },
   "outputs": [],
   "source": [
    "### RATIO FINDE###\n",
    "# Define udf\n",
    "#### cuenta como finde las noches de ci viernes,sábado y domingo.\n",
    "def calcRatioFinde(ci, duracion):\n",
    "    \n",
    "    if ci is None:\n",
    "        return None\n",
    "    \n",
    "    dia_ci = ci.isoweekday()\n",
    "    # cuantas semanas completas de 7 dias (con dos dias de finde) hay en la duracion del viaje?\n",
    "    # trunc(duracion/7)\n",
    "    semanas_completas = int(duracion/7)\n",
    "    \n",
    "    # el resto de los dias fuera de las semanas completas:\n",
    "    resto_dias = duracion - semanas_completas * 7\n",
    "   \n",
    "    # cuento los dias de fin de semana extras a la semana completa\n",
    "    if dia_ci == 5: # si el grupo de dias extra empieza un viernes, como maximo pueden contener vie, sab y dom (3 dias) de finde\n",
    "        dia_finde_extra = min(3, resto_dias) \n",
    "    elif dia_ci == 6:  # si el grupo de dias extra empieza un sabado, como maximo pueden contener sab y dom (2 dias) de finde\n",
    "        dia_finde_extra = min(2, resto_dias) \n",
    "    elif dia_ci == 7:  # si el grupo de dias extra empieza un domingo, si son 6 dias extra contienen un domingo un un viernes\n",
    "        if resto_dias == 6:\n",
    "            dia_finde_extra = 2\n",
    "        else:\n",
    "            dia_finde_extra = 1\n",
    "    elif dia_ci + resto_dias == 6: # abarca todos los casos en que el grupo de dias extra  empieza lu/ma/mi/ju y termina en vi\n",
    "        dia_finde_extra = 1\n",
    "    elif dia_ci + resto_dias == 7: # abarca todos los casos en que el grupo de dias extra  empieza lu/ma/mi/ju y termina en sa\n",
    "        dia_finde_extra = 2\n",
    "    elif dia_ci + resto_dias > 8: # abarca los casos en que el grupo de dias extra empieza lu/ma/mi/ju e incluye un dom\n",
    "        dia_finde_extra = 3\n",
    "    else:\n",
    "        dia_finde_extra = 0\n",
    "    \n",
    "    # Saco el numero de dias de finde (dos por semana completa, mas los dias extra)\n",
    "    # el round es porque python, si divide integers, redondea a integer la respuesta\n",
    "    dias_finde_total = semanas_completas * 2 + round(dia_finde_extra,2)\n",
    "    \n",
    "    # saco el ratio \"dias de finde\" / \"duracion\" del viaje\n",
    "    ratio_finde = dias_finde_total / duracion\n",
    "    \n",
    "    return round(ratio_finde, 2)"
   ]
  },
  {
   "cell_type": "code",
   "execution_count": null,
   "metadata": {
    "collapsed": true
   },
   "outputs": [],
   "source": [
    "PDF['ratio_finde'] = PDF.apply(lambda r: calcRatioFinde(r.ci_date, r.duration), axis=1)"
   ]
  },
  {
   "cell_type": "markdown",
   "metadata": {},
   "source": [
    " #### Subset de datos \n",
    "* loc works on labels in the index\n",
    "* iloc works on the positions in the index (so it only takes integers).\n",
    "* ix usually tries to behave like loc but falls back to behaving like iloc if the label is not in the index\n",
    " \n",
    "http://stackoverflow.com/questions/31593201/pandas-iloc-vs-ix-vs-loc-explanation\n",
    " \n",
    "### (!) CLAVE: evitar Chained Indexing\n",
    "Usar loc e iloc es mejor que hacer slicing solo con [] porque usando solo [] podemos terminar trabajando con una copia del PDF en vez del original (el outcome es impredecible). Entonces los cambios que hacemos pueden no quedar guardados en el original. Usando .loc operamos directamente en el original. En general nos va a saltar un Warning llamado SettingWithCopy\n",
    " \n",
    "http://pandas.pydata.org/pandas-docs/stable/indexing.html#indexing-view-versus-copy"
   ]
  },
  {
   "cell_type": "markdown",
   "metadata": {},
   "source": [
    "##### Slicing por una condicion"
   ]
  },
  {
   "cell_type": "code",
   "execution_count": null,
   "metadata": {
    "collapsed": true
   },
   "outputs": [],
   "source": [
    "PDF = PDF.loc[PDF['anticipation'] >= 0]\n",
    "\n",
    "PDF.query('anticipation >= 0')"
   ]
  },
  {
   "cell_type": "markdown",
   "metadata": {},
   "source": [
    "##### Seleccionar solo una columna y subset de filas que cumplan condiciones en más de una columna"
   ]
  },
  {
   "cell_type": "code",
   "execution_count": null,
   "metadata": {
    "collapsed": true
   },
   "outputs": [],
   "source": [
    "PDF.loc[(PDF[\"traveler_type\"] == \"couple\") & (PDF[\"anticipation\"] < 3), \"duration\"]"
   ]
  },
  {
   "cell_type": "markdown",
   "metadata": {},
   "source": [
    "##### table de esa cosa bajo esas condiciones"
   ]
  },
  {
   "cell_type": "code",
   "execution_count": null,
   "metadata": {
    "collapsed": true
   },
   "outputs": [],
   "source": [
    "PDF.loc[(PDF[\"traveler_type\"] == \"couple\") & (PDF[\"anticipation\"] < 3), \"duration\"].value_counts()"
   ]
  },
  {
   "cell_type": "markdown",
   "metadata": {},
   "source": [
    "- hacer una operacion sobre un campo solo cuando se cumplen ciertas condiciones"
   ]
  },
  {
   "cell_type": "code",
   "execution_count": null,
   "metadata": {
    "collapsed": true
   },
   "outputs": [],
   "source": [
    "PDF.loc[(PDF[\"traveler_type\"] == \"couple\") & (PDF[\"anticipation\"] < 3), \"duration\"] *= 1000"
   ]
  },
  {
   "cell_type": "code",
   "execution_count": null,
   "metadata": {
    "collapsed": true
   },
   "outputs": [],
   "source": [
    "PDF.loc[:50,['traveler_type','anticipation','duration']]"
   ]
  },
  {
   "cell_type": "markdown",
   "metadata": {},
   "source": [
    "### Slice de las columnas que quiero quedarme"
   ]
  },
  {
   "cell_type": "code",
   "execution_count": null,
   "metadata": {
    "collapsed": true
   },
   "outputs": [],
   "source": [
    "# por nombre\n",
    "PDF.loc[:,['userid','traveler_type','duration']] # es lo mismo poner PDF.ix[:,['userid','traveler_type','duration']]\n",
    "\n",
    "# por posicion\n",
    "PDF.iloc[:,[0, 15, 12]] # es lo mismo poner PDF.ix[:,[0, 15, 12]]"
   ]
  },
  {
   "cell_type": "code",
   "execution_count": null,
   "metadata": {
    "collapsed": true
   },
   "outputs": [],
   "source": [
    "#### Función que filtra outliers\n",
    "\n",
    "def filterOutliers(events, features_to_filter):\n",
    "    \n",
    "    print events[features_to_filter].describe()\n",
    "    \n",
    "    for column in events:\n",
    "        if column in features_to_filter:\n",
    "            X_col = events[column] # se queda solo con las columnas que elegi para evaluar outliers\n",
    "            # se queda solo con las obs de TODAS LAS COLUMNAS de bookings donde esas columnas cumplen la siguiente condicion.\n",
    "            events = events[np.abs(X_col - X_col.mean()) <= (3 * X_col.std())] \n",
    "    \n",
    "    print events[features_to_filter].describe()\n",
    "    \n",
    "    return events"
   ]
  },
  {
   "cell_type": "code",
   "execution_count": null,
   "metadata": {
    "collapsed": true
   },
   "outputs": [],
   "source": [
    "features_w_outliers = ['actions_count', 'session_count', 'search_count', 'detail_count', 'checkout_count',\n",
    "                       'duration', 'anticipation']\n",
    "\n",
    "clean_PDF = filterOutliers(PDF, features_w_outliers)"
   ]
  },
  {
   "cell_type": "markdown",
   "metadata": {},
   "source": [
    "#### Sorting por una columna"
   ]
  },
  {
   "cell_type": "code",
   "execution_count": null,
   "metadata": {
    "collapsed": true
   },
   "outputs": [],
   "source": [
    "PDF.sort_values(by='actions_count') # puedo agregar: ascending=False, na_position='last'"
   ]
  },
  {
   "cell_type": "markdown",
   "metadata": {},
   "source": [
    "#### Sorting por varias columnas"
   ]
  },
  {
   "cell_type": "code",
   "execution_count": null,
   "metadata": {
    "collapsed": true
   },
   "outputs": [],
   "source": [
    "PDF.sort_values(['actions_count', 'search_count'], ascending=[True, False])"
   ]
  },
  {
   "cell_type": "markdown",
   "metadata": {},
   "source": [
    "#### Merge\n",
    "Voy a agregarle el tax rate segun iata_dest\n",
    "\n",
    "pd.merge:\n",
    "- how: One of 'left', 'right', 'outer', 'inner'. Defaults to inner.\n",
    "- suffixes: A tuple of string suffixes to apply to overlapping columns. Defaults to ('_x', '_y').\n",
    "\n",
    "Ver: http://pandas.pydata.org/pandas-docs/stable/merging.html#database-style-dataframe-joining-merging"
   ]
  },
  {
   "cell_type": "code",
   "execution_count": null,
   "metadata": {
    "collapsed": true
   },
   "outputs": [],
   "source": [
    "tax_rate_table = pd.read_csv(\"calculo_pritax.csv\", sep=',', header='infer')"
   ]
  },
  {
   "cell_type": "code",
   "execution_count": null,
   "metadata": {
    "collapsed": true
   },
   "outputs": [],
   "source": [
    "fixed_taxPDF = pd.merge(alldataPDF, unique_iatas, how='left', left_on=['iata_dest'], right_on=['fk_key'])"
   ]
  },
  {
   "cell_type": "markdown",
   "metadata": {},
   "source": [
    "#### Me quedo con un % de sample random para test y train"
   ]
  },
  {
   "cell_type": "code",
   "execution_count": null,
   "metadata": {
    "collapsed": true
   },
   "outputs": [],
   "source": [
    "test = clean_PDF.sample(frac=0.1, replace=False)\n",
    "train = clean_PDF.sample(frac=0.9, replace=False)"
   ]
  }
 ],
 "metadata": {
  "kernelspec": {
   "display_name": "Python 2",
   "language": "python",
   "name": "python2"
  },
  "language_info": {
   "codemirror_mode": {
    "name": "ipython",
    "version": 2
   },
   "file_extension": ".py",
   "mimetype": "text/x-python",
   "name": "python",
   "nbconvert_exporter": "python",
   "pygments_lexer": "ipython2",
   "version": "2.7.12"
  }
 },
 "nbformat": 4,
 "nbformat_minor": 1
}
